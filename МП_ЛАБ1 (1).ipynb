{
  "nbformat": 4,
  "nbformat_minor": 0,
  "metadata": {
    "colab": {
      "provenance": []
    },
    "kernelspec": {
      "name": "python3",
      "display_name": "Python 3"
    },
    "language_info": {
      "name": "python"
    }
  },
  "cells": [
    {
      "cell_type": "code",
      "execution_count": 51,
      "metadata": {
        "id": "Kbq_-r-5V_BS",
        "colab": {
          "base_uri": "https://localhost:8080/"
        },
        "cellView": "form",
        "outputId": "77af5a94-4484-4dda-9325-72071f728c48"
      },
      "outputs": [
        {
          "output_type": "stream",
          "name": "stdout",
          "text": [
            "[6, 4, 4, 5, 2, 0, 4, 1, 9, 8]\n",
            "[0, 1, 2, 4, 4, 4, 5, 6, 8, 9]\n"
          ]
        }
      ],
      "source": [
        "# @title сортировка вставками\n",
        "import random\n",
        "def insert_sort(arr: list):\n",
        "  for i in range(1, len(arr)):\n",
        "        key = arr[i]\n",
        "        j = i-1\n",
        "        while j >=0 and key < arr[j] :\n",
        "            arr[j+1] = arr[j]\n",
        "            j -= 1\n",
        "        arr[j+1] = key\n",
        "  return arr\n",
        "arr = []\n",
        "for i in range(10):\n",
        "  arr.append(random.randint(0, 10))\n",
        "print(arr)\n",
        "print(insert_sort(arr))"
      ]
    },
    {
      "cell_type": "code",
      "source": [
        "# @title шейкер сортировка\n",
        "def shaker_sort(array):\n",
        "    length = len(array)\n",
        "    swapped = True\n",
        "    start_index = 0\n",
        "    end_index = length - 1\n",
        "    while (swapped == True):\n",
        "        swapped = False\n",
        "        for i in range(start_index, end_index):  # проход слева направо\n",
        "            if (array[i] > array[i + 1]) :                 # обмен элементов\n",
        "                array[i], array[i + 1] = array[i + 1], array[i]\n",
        "                swapped = True\n",
        "\n",
        "        if (not(swapped)):         # если не было обменов прерываем цикл\n",
        "            break\n",
        "\n",
        "        swapped = False\n",
        "        end_index = end_index - 1\n",
        "        for i in range(end_index - 1, start_index - 1, -1):         #проход справа налево\n",
        "            if (array[i] > array[i + 1]):\n",
        "                array[i], array[i + 1] = array[i + 1], array[i]\n",
        "                swapped = True\n",
        "\n",
        "        start_index = start_index + 1\n",
        "    return array\n",
        "\n",
        "arr1 = []\n",
        "for i in range(100):\n",
        "  arr1.append(random.randint(0, 100))\n",
        "print(arr1)\n",
        "print(shaker_sort(arr1))\n"
      ],
      "metadata": {
        "id": "evvYgGdrXuiz",
        "cellView": "form",
        "colab": {
          "base_uri": "https://localhost:8080/"
        },
        "outputId": "66139b9f-e407-4959-ddca-2db18be3fe5d"
      },
      "execution_count": 52,
      "outputs": [
        {
          "output_type": "stream",
          "name": "stdout",
          "text": [
            "[37, 47, 7, 10, 50, 16, 74, 87, 43, 99, 72, 42, 17, 80, 9, 10, 44, 0, 17, 43, 35, 11, 20, 73, 29, 98, 72, 30, 97, 24, 95, 66, 20, 23, 2, 23, 85, 87, 59, 23, 61, 43, 98, 97, 90, 49, 19, 44, 33, 47, 53, 82, 83, 89, 58, 19, 54, 69, 19, 42, 52, 95, 28, 19, 45, 38, 91, 100, 17, 38, 61, 69, 87, 53, 22, 47, 95, 26, 77, 84, 98, 1, 59, 35, 37, 83, 48, 31, 19, 28, 37, 72, 20, 79, 91, 30, 38, 46, 55, 8]\n",
            "[0, 1, 2, 7, 8, 9, 10, 10, 11, 16, 17, 17, 17, 19, 19, 19, 19, 19, 20, 20, 20, 22, 23, 23, 23, 24, 26, 28, 28, 29, 30, 30, 31, 33, 35, 35, 37, 37, 37, 38, 38, 38, 42, 42, 43, 43, 43, 44, 44, 45, 46, 47, 47, 47, 48, 49, 50, 52, 53, 53, 54, 55, 58, 59, 59, 61, 61, 66, 69, 69, 72, 72, 72, 73, 74, 77, 79, 80, 82, 83, 83, 84, 85, 87, 87, 87, 89, 90, 91, 91, 95, 95, 95, 97, 97, 98, 98, 98, 99, 100]\n"
          ]
        }
      ]
    },
    {
      "cell_type": "code",
      "source": [
        "# @title дерево\n",
        "def heapify(arr, n, i):\n",
        "    lar = i\n",
        "    l = 2 * i + 1\n",
        "    r = 2 * i + 2\n",
        "    if l < n and arr[lar] < arr[l]:\n",
        "        lar = l\n",
        "    if r < n and arr[lar] < arr[r]:\n",
        "        lar = r\n",
        "    if lar != i:\n",
        "        arr[i], arr[lar] = arr[lar], arr[i]\n",
        "\n",
        "        heapify(arr, n, lar)\n",
        "\n",
        "def heap_sort(arr):\n",
        "    n = len(arr)\n",
        "\n",
        "    for i in range(n, -1, -1):\n",
        "        heapify(arr, n, i)\n",
        "\n",
        "    for i in range(n - 1, 0, -1):\n",
        "        arr[i], arr[0] = arr[0], arr[i]\n",
        "        heapify(arr, i, 0)\n",
        "\n",
        "arr = [12, 11, 13, 5, 6, 7, 5, 8]\n",
        "heap_sort(arr)\n",
        "print(arr)"
      ],
      "metadata": {
        "id": "iW0lrD7TvSy9",
        "colab": {
          "base_uri": "https://localhost:8080/"
        },
        "outputId": "93b5798a-01fc-47b4-8954-98db70c4cece"
      },
      "execution_count": 60,
      "outputs": [
        {
          "output_type": "stream",
          "name": "stdout",
          "text": [
            "[5, 5, 6, 7, 8, 11, 12, 13]\n"
          ]
        }
      ]
    },
    {
      "cell_type": "markdown",
      "source": [
        "1) 600\n",
        "\n",
        "2) 1000\n",
        "\n",
        "3) 2000\n",
        "\n",
        "4) 3000\n",
        "\n",
        "5) 4000\n",
        "\n",
        "6) 5000\n",
        "\n",
        "7) 6000"
      ],
      "metadata": {
        "id": "eicI4987ChZY"
      }
    },
    {
      "cell_type": "code",
      "source": [
        "import csv\n",
        "import time\n",
        "import matplotlib.pyplot as plt\n",
        "\n",
        "class residents:\n",
        "  def __init__(self, name, street, house, floor, year):\n",
        "    self.name = name\n",
        "    self.street = street\n",
        "    self.house = house\n",
        "    self.floor = floor\n",
        "    self.year = year\n",
        "  def __gt__(self, other): #>\n",
        "    if self.street > other.street:\n",
        "      return True\n",
        "    elif self.street <= other.street:\n",
        "      return False\n",
        "    else:\n",
        "      if self.house > other.house:\n",
        "        return True\n",
        "      elif self.house <= other.house:\n",
        "        return False\n",
        "      else:\n",
        "        if self.floor > other.floor:\n",
        "          return True\n",
        "        elif self.floor <= other.floor:\n",
        "          return False\n",
        "        else:\n",
        "          if self.name > other.name:\n",
        "            return True\n",
        "          elif self.name <= other.name:\n",
        "            return False\n",
        "          else:\n",
        "            if self.year > other.year:\n",
        "              return True\n",
        "            else:\n",
        "              return False\n",
        "  def __ge__(self, other): #>=\n",
        "    if self.street >= other.street:\n",
        "      return True\n",
        "    elif self.street < other.street:\n",
        "      return False\n",
        "    else:\n",
        "      if self.house >= other.house:\n",
        "        return True\n",
        "      elif self.house < other.house:\n",
        "        return False\n",
        "      else:\n",
        "        if self.floor >= other.floor:\n",
        "          return True\n",
        "        elif self.floor < other.floor:\n",
        "          return False\n",
        "        else:\n",
        "          if self.name >= other.name:\n",
        "            return True\n",
        "          elif self.name < other.name:\n",
        "            return False\n",
        "          else:\n",
        "            if self.year >= other.year:\n",
        "              return True\n",
        "            else:\n",
        "              return False\n",
        "  def __lt__(self, other): #<\n",
        "    if self.street < other.street:\n",
        "      return True\n",
        "    elif self.street >= other.street:\n",
        "      return False\n",
        "    else:\n",
        "      if self.house < other.house:\n",
        "        return True\n",
        "      elif self.house >= other.house:\n",
        "        return False\n",
        "      else:\n",
        "        if self.floor < other.floor:\n",
        "          return True\n",
        "        elif self.floor >= other.floor:\n",
        "          return False\n",
        "        else:\n",
        "          if self.name < other.name:\n",
        "            return True\n",
        "          elif self.name >= other.name:\n",
        "            return False\n",
        "          else:\n",
        "            if self.year < other.year:\n",
        "              return True\n",
        "            else:\n",
        "              return False\n",
        "  def __le__(self, other): #<=\n",
        "    if self.street <= other.street:\n",
        "      return True\n",
        "    elif self.street > other.street:\n",
        "      return False\n",
        "    else:\n",
        "      if self.house <= other.house:\n",
        "        return True\n",
        "      elif self.house > other.house:\n",
        "        return False\n",
        "      else:\n",
        "        if self.floor <= other.floor:\n",
        "          return True\n",
        "        elif self.floor > other.floor:\n",
        "          return False\n",
        "        else:\n",
        "          if self.name <= other.name:\n",
        "            return True\n",
        "          elif self.name > other.name:\n",
        "            return False\n",
        "          else:\n",
        "            if self.year <= other.year:\n",
        "              return True\n",
        "            else:\n",
        "              return False\n",
        "  def __eq__(self, other): #==\n",
        "    if self.street != other.street:\n",
        "      return False\n",
        "    if self.house != other.house:\n",
        "      return False\n",
        "    if self.floor != other.floor:\n",
        "      return False\n",
        "    if self.name != other.name:\n",
        "      return False\n",
        "    if self.year != other.year:\n",
        "      return False\n",
        "    return True\n",
        "  def out(self):\n",
        "     print(f\"{self.name}, {self.street}, {self.house}, {self.floor}, {self.year}\", end=\"\\n\")\n",
        "\n",
        "\n",
        "data = []\n",
        "with open(\"жильцы_1.csv\", encoding=\"utf-8\") as file:\n",
        "  next(file)\n",
        "  for row in file:\n",
        "    r = row.split(',')\n",
        "    resident = residents(r[0], r[1], int(r[2]), int(r[3]), int(r[4]))\n",
        "    data.append(resident)\n",
        "uns_data1 = data.copy()\n",
        "\n",
        "data = []\n",
        "with open(\"жильцы_2.csv\", encoding=\"utf-8\") as file:\n",
        "  next(file)\n",
        "  for row in file:\n",
        "    r = row.split(',')\n",
        "    resident = residents(r[0], r[1], int(r[2]), int(r[3]), int(r[4]))\n",
        "    data.append(resident)\n",
        "uns_data2 = data.copy()\n",
        "\n",
        "data = []\n",
        "with open(\"жильцы_3.csv\", encoding=\"utf-8\") as file:\n",
        "  next(file)\n",
        "  for row in file:\n",
        "    r = row.split(',')\n",
        "    resident = residents(r[0], r[1], int(r[2]), int(r[3]), int(r[4]))\n",
        "    data.append(resident)\n",
        "uns_data3 = data.copy()\n",
        "\n",
        "data = []\n",
        "with open(\"жильцы_4.csv\", encoding=\"utf-8\") as file:\n",
        "  next(file)\n",
        "  for row in file:\n",
        "    r = row.split(',')\n",
        "    resident = residents(r[0], r[1], int(r[2]), int(r[3]), int(r[4]))\n",
        "    data.append(resident)\n",
        "uns_data4 = data.copy()\n",
        "\n",
        "data = []\n",
        "with open(\"жильцы_5.csv\", encoding=\"utf-8\") as file:\n",
        "  next(file)\n",
        "  for row in file:\n",
        "    r = row.split(',')\n",
        "    resident = residents(r[0], r[1], int(r[2]), int(r[3]), int(r[4]))\n",
        "    data.append(resident)\n",
        "uns_data5 = data.copy()\n",
        "\n",
        "data = []\n",
        "with open(\"жильцы_6.csv\", encoding=\"utf-8\") as file:\n",
        "  next(file)\n",
        "  for row in file:\n",
        "    r = row.split(',')\n",
        "    resident = residents(r[0], r[1], int(r[2]), int(r[3]), int(r[4]))\n",
        "    data.append(resident)\n",
        "uns_data6 = data.copy()\n",
        "\n",
        "data = []\n",
        "with open(\"жильцы_7.csv\", encoding=\"utf-8\") as file:\n",
        "  next(file)\n",
        "  for row in file:\n",
        "    r = row.split(',')\n",
        "    resident = residents(r[0], r[1], int(r[2]), int(r[3]), int(r[4]))\n",
        "    data.append(resident)\n",
        "uns_data7 = data.copy()\n",
        "\n",
        "uns_shaker1 = uns_data1.copy()\n",
        "uns_shaker2 = uns_data2.copy()\n",
        "uns_shaker3 = uns_data3.copy()\n",
        "uns_shaker4 = uns_data4.copy()\n",
        "uns_shaker5 = uns_data5.copy()\n",
        "uns_shaker6 = uns_data6.copy()\n",
        "uns_shaker7 = uns_data7.copy()\n",
        "\n",
        "ans_l2 = [uns_shaker1, uns_shaker2, uns_shaker3, uns_shaker4, uns_shaker5, uns_shaker6, uns_shaker7]\n",
        "\n",
        "uns_heap1 = uns_data1.copy()\n",
        "uns_heap2 = uns_data2.copy()\n",
        "uns_heap3 = uns_data3.copy()\n",
        "uns_heap4 = uns_data4.copy()\n",
        "uns_heap5 = uns_data5.copy()\n",
        "uns_heap6 = uns_data6.copy()\n",
        "uns_heap7 = uns_data7.copy()\n",
        "\n",
        "ans_l3 = [uns_heap1, uns_heap2, uns_heap3, uns_heap4, uns_heap5, uns_heap6, uns_heap7]\n",
        "\n",
        "\n",
        "# for i in data:\n",
        "#   i.out()\n",
        "\n",
        "def insert_sort(arr: list):\n",
        "  for i in range(1, len(arr)):\n",
        "        key = arr[i]\n",
        "        j = i-1\n",
        "        while j >=0 and key < arr[j] :\n",
        "            arr[j+1] = arr[j]\n",
        "            j -= 1\n",
        "        arr[j+1] = key\n",
        "  return arr\n",
        "\n",
        "insert_time = []\n",
        "ans_l = [uns_data1, uns_data2, uns_data3, uns_data4, uns_data5, uns_data6, uns_data7]\n",
        "x = []\n",
        "for i in ans_l:\n",
        "  x.append(len(i))\n",
        "for i in ans_l:\n",
        "  start = time.time()\n",
        "  insert_sort(i)\n",
        "  insert_time.append(time.time() - start)\n",
        "print(insert_time)\n",
        "p1 = plt.plot(x, insert_time)\n",
        "\n",
        "ans1 = insert_sort(uns_data1)\n",
        "with open('data.txt', 'w') as f:\n",
        "        for elem in ans1:\n",
        "            f.write(f'{elem.name} {elem.street} {elem.house} {elem.floor} {elem.year}\\n')\n",
        "# for i in ans1:\n",
        "#   i.out()"
      ],
      "metadata": {
        "id": "jbbA6ZMP1Lge",
        "colab": {
          "base_uri": "https://localhost:8080/",
          "height": 467
        },
        "outputId": "edf1df83-8a2d-48c2-b895-2ab5c6c2af7f"
      },
      "execution_count": 54,
      "outputs": [
        {
          "output_type": "stream",
          "name": "stdout",
          "text": [
            "[0.027779340744018555, 0.06972813606262207, 0.3130955696105957, 0.6575789451599121, 1.2209532260894775, 1.943507432937622, 2.9200656414031982]\n"
          ]
        },
        {
          "output_type": "display_data",
          "data": {
            "text/plain": [
              "<Figure size 640x480 with 1 Axes>"
            ],
            "image/png": "[encoded data removed]"
          },
          "metadata": {}
        }
      ]
    },
    {
      "cell_type": "code",
      "source": [
        "def shaker_sort(array):\n",
        "    length = len(array)\n",
        "    swapped = True\n",
        "    start_index = 0\n",
        "    end_index = length - 1\n",
        "    while (swapped == True):\n",
        "        swapped = False\n",
        "        for i in range(start_index, end_index):  # проход слева направо\n",
        "            if (array[i] > array[i + 1]) :                 # обмен элементов\n",
        "                array[i], array[i + 1] = array[i + 1], array[i]\n",
        "                swapped = True\n",
        "\n",
        "        if (not(swapped)):\n",
        "            break\n",
        "\n",
        "        swapped = False\n",
        "        end_index = end_index - 1\n",
        "        for i in range(end_index - 1, start_index - 1, -1):         #проход справа налево\n",
        "            if (array[i] > array[i + 1]):\n",
        "                array[i], array[i + 1] = array[i + 1], array[i]\n",
        "                swapped = True\n",
        "\n",
        "        start_index = start_index + 1\n",
        "    return array\n",
        "\n",
        "shaker_time = []\n",
        "for i in ans_l2:\n",
        "  start = time.time()\n",
        "  shaker_sort(i)\n",
        "  shaker_time.append(time.time() - start)\n",
        "print(shaker_time)\n",
        "p2 = plt.plot(x, shaker_time)\n",
        "\n",
        "# ans2 = shaker_sort(uns_data2)\n",
        "# for i in ans2:\n",
        "#   i.out()"
      ],
      "metadata": {
        "id": "O1yxlF5urF5x",
        "colab": {
          "base_uri": "https://localhost:8080/",
          "height": 467
        },
        "outputId": "12bc4b8c-f2bb-4488-dad5-77266069bdb1"
      },
      "execution_count": 55,
      "outputs": [
        {
          "output_type": "stream",
          "name": "stdout",
          "text": [
            "[0.051348209381103516, 0.14080190658569336, 0.5864014625549316, 2.322444438934326, 2.580251693725586, 3.9961063861846924, 7.450050592422485]\n"
          ]
        },
        {
          "output_type": "display_data",
          "data": {
            "text/plain": [
              "<Figure size 640x480 with 1 Axes>"
            ],
            "image/png": "[encoded data removed]"
          },
          "metadata": {}
        }
      ]
    },
    {
      "cell_type": "code",
      "source": [
        "def heapify(arr, n, i):\n",
        "    lar = i\n",
        "    l = 2 * i + 1\n",
        "    r = 2 * i + 2\n",
        "    if l < n and arr[lar] < arr[l]:\n",
        "        lar = l\n",
        "    if r < n and arr[lar] < arr[r]:\n",
        "        lar = r\n",
        "    if lar != i:\n",
        "        arr[i], arr[lar] = arr[lar], arr[i]\n",
        "\n",
        "        heapify(arr, n, lar)\n",
        "\n",
        "def heap_sort(arr):\n",
        "    n = len(arr)\n",
        "\n",
        "    for i in range(n, -1, -1):\n",
        "        heapify(arr, n, i)\n",
        "\n",
        "    for i in range(n - 1, 0, -1):\n",
        "        arr[i], arr[0] = arr[0], arr[i]\n",
        "        heapify(arr, i, 0)\n",
        "\n",
        "heap_time = []\n",
        "for i in ans_l3:\n",
        "  start = time.time()\n",
        "  heap_sort(i)\n",
        "  heap_time.append(time.time() - start)\n",
        "print(heap_time)\n",
        "p3 = plt.plot(x, heap_time)\n",
        "\n",
        "# heap_sort(uns_data3)\n",
        "# ans3 = uns_data3.copy()\n",
        "# for i in ans3:\n",
        "#   i.out()"
      ],
      "metadata": {
        "colab": {
          "base_uri": "https://localhost:8080/",
          "height": 467
        },
        "id": "IGjOoRhdz_wg",
        "outputId": "18cf7867-69b4-4309-8fc2-bd1de31d3a69"
      },
      "execution_count": 57,
      "outputs": [
        {
          "output_type": "stream",
          "name": "stdout",
          "text": [
            "[0.014006853103637695, 0.014404535293579102, 0.018143177032470703, 0.02746725082397461, 0.039510250091552734, 0.05087900161743164, 0.0656132698059082]\n"
          ]
        },
        {
          "output_type": "display_data",
          "data": {
            "text/plain": [
              "<Figure size 640x480 with 1 Axes>"
            ],
            "image/png": "[encoded data removed]"
          },
          "metadata": {}
        }
      ]
    },
    {
      "cell_type": "code",
      "source": [
        "plt.plot(x, heap_time)\n",
        "plt.plot(x, insert_time)\n",
        "plt.plot(x, shaker_time)\n",
        "plt.legend(('heap', 'insert', 'shaker'))"
      ],
      "metadata": {
        "id": "8oQKz8b9wCLj",
        "colab": {
          "base_uri": "https://localhost:8080/",
          "height": 447
        },
        "outputId": "b9809820-ab51-4890-a676-29570afd0ff8"
      },
      "execution_count": 58,
      "outputs": [
        {
          "output_type": "execute_result",
          "data": {
            "text/plain": [
              "<matplotlib.legend.Legend at 0x7e9dd286ee00>"
            ]
          },
          "metadata": {},
          "execution_count": 58
        },
        {
          "output_type": "display_data",
          "data": {
            "text/plain": [
              "<Figure size 640x480 with 1 Axes>"
            ],
            "image/png": "[encoded data removed]"
          },
          "metadata": {}
        }
      ]
    },
    {
      "cell_type": "code",
      "source": [],
      "metadata": {
        "id": "OU_sEb4vRhDL"
      },
      "execution_count": null,
      "outputs": []
    }
  ]
}